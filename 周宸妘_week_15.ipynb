{
  "nbformat": 4,
  "nbformat_minor": 0,
  "metadata": {
    "colab": {
      "name": "周宸妘 week 15.ipynb",
      "provenance": [],
      "authorship_tag": "ABX9TyNzYOGmxaVU8FjQEJOcN648",
      "include_colab_link": true
    },
    "kernelspec": {
      "name": "python3",
      "display_name": "Python 3"
    },
    "language_info": {
      "name": "python"
    }
  },
  "cells": [
    {
      "cell_type": "markdown",
      "metadata": {
        "id": "view-in-github",
        "colab_type": "text"
      },
      "source": [
        "<a href=\"https://colab.research.google.com/github/A109010061/Computational-Thinking-and-Program-Design/blob/main/%E5%91%A8%E5%AE%B8%E5%A6%98_week_15.ipynb\" target=\"_parent\"><img src=\"https://colab.research.google.com/assets/colab-badge.svg\" alt=\"Open In Colab\"/></a>"
      ]
    },
    {
      "cell_type": "code",
      "metadata": {
        "colab": {
          "base_uri": "https://localhost:8080/"
        },
        "id": "sozfbROVsAh0",
        "outputId": "28eb3da5-669e-47ee-96e8-53495d0fd313"
      },
      "source": [
        "yourchoice = int(input(\"請出拳 [0] 蟲 [1] 雞 [2] 老虎 [3] 棒子\"))\n",
        "print(\"你出的拳:\", yourchoice)\n",
        "import random\n",
        "computerchoice = random.randint(0, 3)\n",
        "print(\"電腦出拳為\", computerchoice)\n",
        "if yourchoice == (computerchoice + 1) % 4 :\n",
        "    print(\"我贏了\")\n",
        "elif computerchoice == (yourchoice + 1) % 4 :\n",
        "    print(\"電腦贏了\")\n",
        "else:\n",
        "    print(\"平手\")"
      ],
      "execution_count": 7,
      "outputs": [
        {
          "output_type": "stream",
          "text": [
            "請出拳 [0] 蟲 [1] 雞 [2] 老虎 [3] 棒子2\n",
            "你出的拳: 2\n",
            "電腦出拳為 2\n",
            "平手\n"
          ],
          "name": "stdout"
        }
      ]
    }
  ]
}