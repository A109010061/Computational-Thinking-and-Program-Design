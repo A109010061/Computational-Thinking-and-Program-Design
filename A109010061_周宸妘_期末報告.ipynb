{
  "nbformat": 4,
  "nbformat_minor": 0,
  "metadata": {
    "colab": {
      "name": "A109010061_周宸妘_期末報告",
      "provenance": [],
      "authorship_tag": "ABX9TyO2ZRUagWIGEWM4rSBTekPn",
      "include_colab_link": true
    },
    "kernelspec": {
      "name": "python3",
      "display_name": "Python 3"
    },
    "language_info": {
      "name": "python"
    }
  },
  "cells": [
    {
      "cell_type": "markdown",
      "metadata": {
        "id": "view-in-github",
        "colab_type": "text"
      },
      "source": [
        "<a href=\"https://colab.research.google.com/github/A109010061/Computational-Thinking-and-Program-Design/blob/main/A109010061_%E5%91%A8%E5%AE%B8%E5%A6%98_%E6%9C%9F%E6%9C%AB%E5%A0%B1%E5%91%8A.ipynb\" target=\"_parent\"><img src=\"https://colab.research.google.com/assets/colab-badge.svg\" alt=\"Open In Colab\"/></a>"
      ]
    },
    {
      "cell_type": "code",
      "metadata": {
        "colab": {
          "base_uri": "https://localhost:8080/"
        },
        "id": "slU18nrFblCQ",
        "outputId": "256f2326-4a42-4403-ce5d-37a76ea59a41"
      },
      "source": [
        "# -*- coding: UTF-8 -*-\n",
        "def sendMsg(msg):\n",
        "    print(msg)\n",
        "\n",
        "\n",
        "def readMsg():\n",
        "    return input()\n",
        "\n",
        "\n",
        "welcome = \"嗨 ！您好！接下來會問您幾個問題。\" + \"\\n\"\n",
        "sendMsg(welcome)\n",
        "\n",
        "sendMsg(\"你叫什麼名字?\")\n",
        "name = readMsg()\n",
        "sendMsg(\"我的名字叫\" + name + \"\\n\")\n",
        "\n",
        "\n",
        "sendMsg(\"你有特別偏好哪一種類的食物嗎?港式、美式、韓式呢？\")\n",
        "food = readMsg()\n",
        "sendMsg(\"我喜歡吃\" + food + \"\\n\")\n",
        "\n",
        "if food == \"韓式\":\n",
        "    sendMsg(\"那韓式你通常喜歡吃什麼？辣炒年糕、部隊鍋、還是烤肉?\")\n",
        "    k_food = readMsg()\n",
        "    sendMsg(f\"我通常喜歡吃{k_food}配啤酒，會有放鬆的感覺。\")\n",
        "    sendMsg(\"你很懂享受！\" + \"\\n\")\n",
        "\n",
        "    sendMsg(\"比較傾向韓國餐酒館還是是烤肉餐廳？\")\n",
        "    res = readMsg()\n",
        "    sendMsg(f\"我目前比較傾向\" + res)\n",
        "    sendMsg(\"我也喜歡吃！\" + \"\\n\")\n",
        "\n",
        "sendMsg(\"那你通常是與朋友聚餐還是跟家人或是自己吃？\")\n",
        "people = readMsg()\n",
        "sendMsg(people + \"吃\")\n",
        "sendMsg(\"很幸福耶！\" + \"\\n\")\n",
        "\n",
        "sendMsg(\"你們平常有小酌的習慣嗎？\")\n",
        "ans = readMsg()\n",
        "if ans == \"有\":\n",
        "    sendMsg(\"喜歡喝啤酒或調酒？\")\n",
        "    wine = readMsg()\n",
        "    sendMsg(\"這是一定要有的吧！我比較喜歡喝\" + wine)\n",
        "    sendMsg(\"我也覺得很好喝！\" + \"\\n\")\n",
        "\n",
        "sendMsg(\"那麼義式餐廳和美式餐廳你喜歡哪個？\")\n",
        "food_type = readMsg()\n",
        "if food_type == \"義式\":\n",
        "    sendMsg(f\"我喜歡{food_type}，也喜歡吃披薩。\")\n",
        "elif food_type == \"美式\":\n",
        "    sendMsg(f\"我喜歡{food_type}，也喜歡吃漢堡。\")\n",
        "else:\n",
        "    sendMsg(\"是喔\" + \"\\n\")"
      ],
      "execution_count": null,
      "outputs": [
        {
          "output_type": "stream",
          "text": [
            "嗨 ！您好！接下來會問您幾個問題。\n",
            "\n",
            "你叫什麼名字?\n",
            "周宸妘\n",
            "我的名字叫周宸妘\n",
            "\n",
            "你有特別偏好哪一種類的食物嗎?港式、美式、韓式呢？\n",
            "韓式\n",
            "我喜歡吃韓式\n",
            "\n",
            "那韓式你通常喜歡吃什麼？辣炒年糕、部隊鍋、還是烤肉?\n",
            "部隊鍋\n",
            "我通常喜歡吃部隊鍋配啤酒，會有放鬆的感覺。\n",
            "你很懂享受！\n",
            "\n",
            "比較傾向韓國餐酒館還是是烤肉餐廳？\n",
            "烤肉餐廳\n",
            "我目前比較傾向烤肉餐廳\n",
            "我也喜歡吃！\n",
            "\n",
            "那你通常是與朋友聚餐還是跟家人或是自己吃？\n",
            "自己吃\n",
            "自己吃吃\n",
            "很幸福耶！\n",
            "\n",
            "你們平常有小酌的習慣嗎？\n",
            "有\n",
            "喜歡喝啤酒或調酒？\n",
            "調酒\n",
            "這是一定要有的吧！我比較喜歡喝調酒\n",
            "我也覺得很好喝！\n",
            "\n",
            "那麼義式餐廳和美式餐廳你喜歡哪個？\n",
            "義式餐廳\n",
            "是喔\n",
            "\n"
          ],
          "name": "stdout"
        }
      ]
    }
  ]
}